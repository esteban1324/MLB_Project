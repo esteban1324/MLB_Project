{
 "cells": [
  {
   "cell_type": "code",
   "execution_count": 43,
   "metadata": {},
   "outputs": [],
   "source": [
    "from pybaseball import  playerid_lookup, statcast_pitcher, statcast_batter, pitching_stats, batting_stats\n",
    "import pandas as pd "
   ]
  },
  {
   "cell_type": "markdown",
   "metadata": {},
   "source": [
    "Statcast Batter Stats "
   ]
  },
  {
   "cell_type": "code",
   "execution_count": 44,
   "metadata": {},
   "outputs": [
    {
     "name": "stdout",
     "output_type": "stream",
     "text": [
      "Gathering Player Data\n",
      "     pitch_type   game_date  ...  bat_speed  swing_length\n",
      "0            SL  2024-06-30  ...  56.988893       8.90835\n",
      "1            FF  2024-06-30  ...        NaN           NaN\n",
      "2            FF  2024-06-30  ...        NaN           NaN\n",
      "3            CH  2024-06-30  ...  68.871909       8.37486\n",
      "4            CH  2024-06-30  ...        NaN           NaN\n",
      "...         ...         ...  ...        ...           ...\n",
      "2564         CH  2023-07-01  ...        NaN           NaN\n",
      "2565         FF  2023-07-01  ...        NaN           NaN\n",
      "2566         SI  2023-07-01  ...        NaN           NaN\n",
      "2567         SI  2023-07-01  ...        NaN           NaN\n",
      "2568         SI  2023-07-01  ...        NaN           NaN\n",
      "\n",
      "[2569 rows x 94 columns]\n"
     ]
    }
   ],
   "source": [
    "id =  playerid_lookup('bellinger', 'cody')['key_mlbam'].iloc[0]\n",
    "statcast = statcast_batter('2023-07-01', '2024-06-30',  id)\n",
    "print(statcast)\n"
   ]
  },
  {
   "cell_type": "markdown",
   "metadata": {},
   "source": [
    "Fangraphs Hitter Stats Example"
   ]
  },
  {
   "cell_type": "code",
   "execution_count": 45,
   "metadata": {},
   "outputs": [
    {
     "name": "stdout",
     "output_type": "stream",
     "text": [
      "15998\n",
      "belli stats      IDfg  Season            Name Team  Age  ...   CSW%    xBA   xSLG  xwOBA  L-WAR\n",
      "12  15998    2023  Cody Bellinger  CHC   27  ...  0.259  0.268  0.434  0.327    4.0\n",
      "\n",
      "[1 rows x 320 columns]\n"
     ]
    }
   ],
   "source": [
    "hitter_id = playerid_lookup('bellinger', 'cody').iloc[0]['key_fangraphs']\n",
    "print(hitter_id)\n",
    "\n",
    "\n",
    "# get stats for cody bellinger \n",
    "hitter = batting_stats(2023, ind=1)\n",
    "#print(hitter)\n",
    "\n",
    "bellinger_stats = hitter[hitter['IDfg'] == hitter_id]\n",
    "print(\"belli stats\", bellinger_stats)\n",
    "\n",
    "\n",
    "\n"
   ]
  },
  {
   "cell_type": "markdown",
   "metadata": {},
   "source": [
    "Statcast Batter Test"
   ]
  },
  {
   "cell_type": "code",
   "execution_count": 46,
   "metadata": {},
   "outputs": [
    {
     "name": "stdout",
     "output_type": "stream",
     "text": [
      "Gathering Player Data\n",
      "Empty DataFrame\n",
      "Columns: [player_name, pitch_type, game_date, release_speed, release_pos_x, release_pos_z, launch_speed, launch_angle, effective_speed, release_spin_rate, release_extension, release_pos_y, estimated_ba_using_speedangle, estimated_woba_using_speedangle, babip_value, launch_speed_angle, at_bat_number, pitch_number, pitch_name]\n",
      "Index: []\n"
     ]
    }
   ],
   "source": [
    "id =  playerid_lookup('contreras', 'willson')['key_mlbam'].iloc[0]\n",
    "statcast_df = statcast_pitcher('2024-07-05', '2024-07-06',  id)\n",
    "# modify data frame to include only the columns we want\n",
    "statcast_df = statcast_df[['player_name','pitch_type',\n",
    "                           'game_date', 'release_speed', 'release_pos_x', 'release_pos_z', 'launch_speed', \n",
    "                           'launch_angle', 'effective_speed', 'release_spin_rate', 'release_extension', \n",
    "                           'release_pos_y', 'estimated_ba_using_speedangle', 'estimated_woba_using_speedangle', \n",
    "                            'babip_value', 'launch_speed_angle', \n",
    "                           'at_bat_number', 'pitch_number', 'pitch_name', \n",
    "                           ]]\n",
    "print(statcast_df)"
   ]
  },
  {
   "cell_type": "markdown",
   "metadata": {},
   "source": [
    "Statcast Batter Example"
   ]
  },
  {
   "cell_type": "code",
   "execution_count": 48,
   "metadata": {},
   "outputs": [
    {
     "name": "stdout",
     "output_type": "stream",
     "text": [
      "Gathering Player Data\n",
      "           player_name pitch_type  ... pitch_number       pitch_name\n",
      "0   Contreras, Willson         FF  ...            2  4-Seam Fastball\n",
      "1   Contreras, Willson         FF  ...            1  4-Seam Fastball\n",
      "2   Contreras, Willson         SI  ...            4           Sinker\n",
      "3   Contreras, Willson         FF  ...            3  4-Seam Fastball\n",
      "4   Contreras, Willson         CH  ...            2         Changeup\n",
      "5   Contreras, Willson         SL  ...            1           Slider\n",
      "6   Contreras, Willson         SL  ...            9           Slider\n",
      "7   Contreras, Willson         SL  ...            8           Slider\n",
      "8   Contreras, Willson         FC  ...            7           Cutter\n",
      "9   Contreras, Willson         SI  ...            6           Sinker\n",
      "10  Contreras, Willson         SI  ...            5           Sinker\n",
      "11  Contreras, Willson         FC  ...            4           Cutter\n",
      "12  Contreras, Willson         FF  ...            4  4-Seam Fastball\n",
      "13  Contreras, Willson         FC  ...            3           Cutter\n",
      "14  Contreras, Willson         FC  ...            2           Cutter\n",
      "15  Contreras, Willson         SI  ...            3           Sinker\n",
      "16  Contreras, Willson         FC  ...            3           Cutter\n",
      "17  Contreras, Willson         FF  ...            1  4-Seam Fastball\n",
      "18  Contreras, Willson         SL  ...            2           Slider\n",
      "19  Contreras, Willson         SI  ...            1           Sinker\n",
      "20  Contreras, Willson         FC  ...            2           Cutter\n",
      "21  Contreras, Willson         FF  ...            6  4-Seam Fastball\n",
      "22  Contreras, Willson         SL  ...            1           Slider\n",
      "23  Contreras, Willson         FF  ...            5  4-Seam Fastball\n",
      "24  Contreras, Willson         FF  ...            4  4-Seam Fastball\n",
      "25  Contreras, Willson         FF  ...            3  4-Seam Fastball\n",
      "26  Contreras, Willson         FF  ...            2  4-Seam Fastball\n",
      "27  Contreras, Willson         FF  ...            1  4-Seam Fastball\n",
      "\n",
      "[28 rows x 19 columns]\n"
     ]
    }
   ],
   "source": [
    "id = playerid_lookup('Contreras', 'Willson')['key_mlbam'].iloc[0]\n",
    "statcast_hitter_df = statcast_batter('2024-07-05', '2024-07-06',  id)\n",
    "statcast_hitter_df = statcast_hitter_df[['player_name','pitch_type',\n",
    "                           'game_date', 'release_speed', 'release_pos_x', 'release_pos_z', 'launch_speed', \n",
    "                           'launch_angle', 'effective_speed', 'release_spin_rate', 'release_extension', \n",
    "                           'release_pos_y', 'estimated_ba_using_speedangle', 'estimated_woba_using_speedangle', \n",
    "                            'babip_value', 'launch_speed_angle', \n",
    "                           'at_bat_number', 'pitch_number', 'pitch_name', \n",
    "                           ]]\n",
    "\n",
    "print(statcast_hitter_df)\n"
   ]
  }
 ],
 "metadata": {
  "kernelspec": {
   "display_name": "Python 3",
   "language": "python",
   "name": "python3"
  },
  "language_info": {
   "codemirror_mode": {
    "name": "ipython",
    "version": 3
   },
   "file_extension": ".py",
   "mimetype": "text/x-python",
   "name": "python",
   "nbconvert_exporter": "python",
   "pygments_lexer": "ipython3",
   "version": "3.10.12"
  }
 },
 "nbformat": 4,
 "nbformat_minor": 2
}
